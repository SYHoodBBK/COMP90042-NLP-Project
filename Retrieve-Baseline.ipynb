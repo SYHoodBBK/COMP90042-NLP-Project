{
 "cells": [
  {
   "cell_type": "code",
   "execution_count": 1,
   "id": "652ed19f",
   "metadata": {},
   "outputs": [
    {
     "name": "stdout",
     "output_type": "stream",
     "text": [
      "12.4\n",
      "True\n",
      "NVIDIA GeForce RTX 3060 Ti\n"
     ]
    },
    {
     "name": "stderr",
     "output_type": "stream",
     "text": [
      "[nltk_data] Downloading package stopwords to\n",
      "[nltk_data]     C:\\Users\\chivalry\\AppData\\Roaming\\nltk_data...\n",
      "[nltk_data]   Package stopwords is already up-to-date!\n"
     ]
    }
   ],
   "source": [
    "import json\n",
    "import re\n",
    "from collections import Counter, defaultdict\n",
    "import unicodedata\n",
    "\n",
    "import torch\n",
    "import torch.nn as nn\n",
    "from torch.utils.data import DataLoader, Dataset\n",
    "\n",
    "import nltk\n",
    "nltk.download('stopwords')\n",
    "from nltk.corpus import stopwords\n",
    "\n",
    "print(torch.version.cuda)\n",
    "print(torch.cuda.is_available())\n",
    "print(torch.cuda.get_device_name(0))"
   ]
  },
  {
   "cell_type": "code",
   "execution_count": 10,
   "id": "00afdfe8",
   "metadata": {},
   "outputs": [
    {
     "name": "stdout",
     "output_type": "stream",
     "text": [
      "Loaded 1228 training claims.\n",
      "Loaded 154 dev claims.\n",
      "Loaded 1208827 evidences.\n",
      "Loaded 153 test claims.\n"
     ]
    }
   ],
   "source": [
    "train_claims_path = 'data_cleaned/train-claims.json'\n",
    "dev_claims_path = 'data_cleaned/dev-claims.json'\n",
    "evidence_path = 'data_cleaned/evidence.json'\n",
    "test_claims_path = 'data_cleaned/test-claims-unlabelled.json'\n",
    "\n",
    "# loading the data\n",
    "with open(train_claims_path, 'r', encoding='utf-8') as f:\n",
    "    train_claims = json.load(f)\n",
    "with open(dev_claims_path, 'r', encoding='utf-8') as f:\n",
    "    dev_claims = json.load(f)\n",
    "with open(evidence_path, 'r', encoding='utf-8') as f:\n",
    "    evidences = json.load(f)\n",
    "with open(test_claims_path, 'r', encoding='utf-8') as f:\n",
    "    test_claims = json.load(f)\n",
    "\n",
    "print(f\"Loaded {len(train_claims)} training claims.\")\n",
    "print(f\"Loaded {len(dev_claims)} dev claims.\")\n",
    "print(f\"Loaded {len(evidences)} evidences.\")\n",
    "print(f\"Loaded {len(test_claims)} test claims.\")"
   ]
  },
  {
   "cell_type": "code",
   "execution_count": null,
   "id": "4df8d62b",
   "metadata": {},
   "outputs": [],
   "source": [
    "def build_inverted_index(evidence_dict, stopwords=set()):\n",
    "    \"\"\"\n",
    "    Build:\n",
    "    1. inverted index: word -> set of evidence IDs\n",
    "    2. word sets for each evidence (not just cleaned text)\n",
    "    \"\"\"\n",
    "    inverted_index = {}\n",
    "    word_sets = {}\n",
    "\n",
    "    for eid, text in evidence_dict.items():\n",
    "        word_set = set(text.split())\n",
    "        word_set = {w for w in word_set if w not in stopwords}\n",
    "        word_sets[eid] = word_set\n",
    "        for word in word_set:\n",
    "            inverted_index.setdefault(word, set()).add(eid)\n",
    "\n",
    "    return inverted_index, word_sets\n",
    "\n",
    "def simple_retrieve_fast(claim_text, inverted_index, evidence_word_sets, top_k=5, max_candidates=1000, stopwords=set()):\n",
    "    \"\"\"\n",
    "    Fast retrieval using inverted index + keyword match prioritization.\n",
    "\n",
    "    Args:\n",
    "        claim_text (str): The claim text.\n",
    "        inverted_index (dict): Word -> set of evidence IDs.\n",
    "        evidence_word_sets (dict): Evidence ID -> set of words.\n",
    "        top_k (int): Number of final evidence IDs to return.\n",
    "        max_candidates (int): Maximum number of evidence candidates to consider.\n",
    "\n",
    "    Returns:\n",
    "        List of evidence IDs.\n",
    "    \"\"\"\n",
    "    claim_word_set = set(claim_text.split())\n",
    "    claim_word_set = {w for w in claim_word_set if w not in stopwords}\n",
    "\n",
    "    # Step 1: Collect candidate evidence IDs via keyword hit\n",
    "    hit_counts = {}  # evidence_id -> hit count\n",
    "    for word in claim_word_set:\n",
    "        for eid in inverted_index.get(word, []):\n",
    "            hit_counts[eid] = hit_counts.get(eid, 0) + 1\n",
    "\n",
    "    # Step 2: Sort candidates by keyword hit count (desc)\n",
    "    sorted_candidates = sorted(hit_counts.items(), key=lambda x: x[1], reverse=True)\n",
    "\n",
    "    # Step 3: Limit to max_candidates\n",
    "    candidate_ids = [eid for eid, count in sorted_candidates[:max_candidates]]\n",
    "\n",
    "    # Step 4: Fine-grained overlap score (actual word intersection)\n",
    "    scores = []\n",
    "    for evidence_id in candidate_ids:\n",
    "        evidence_words = evidence_word_sets[evidence_id]\n",
    "        common_word_count = len(claim_word_set & evidence_words)\n",
    "        scores.append((evidence_id, common_word_count))\n",
    "\n",
    "    scores.sort(key=lambda x: x[1], reverse=True)\n",
    "    top_evidence_ids = [evidence_id for evidence_id, score in scores[:top_k]]\n",
    "\n",
    "    return top_evidence_ids"
   ]
  },
  {
   "cell_type": "code",
   "execution_count": 12,
   "id": "0f204c22",
   "metadata": {},
   "outputs": [
    {
     "name": "stdout",
     "output_type": "stream",
     "text": [
      "Inverted index and evidence word sets built.\n",
      "Number of unique words in inverted index: 543752\n",
      "Number of unique evidence IDs: 1208827\n"
     ]
    }
   ],
   "source": [
    "english_stopwords = set(stopwords.words('english'))\n",
    "inverted_index, evidence_word_sets = build_inverted_index(evidences, stopwords=english_stopwords)\n",
    "print(\"Inverted index and evidence word sets built.\")\n",
    "print(f\"Number of unique words in inverted index: {len(inverted_index)}\")\n",
    "print(f\"Number of unique evidence IDs: {len(evidence_word_sets)}\")"
   ]
  },
  {
   "cell_type": "code",
   "execution_count": 18,
   "id": "5b64999f",
   "metadata": {},
   "outputs": [
    {
     "name": "stdout",
     "output_type": "stream",
     "text": [
      "Example claim ID: claim-1937\n",
      "Example claim text: not only be there no scientific evidence that co2 be a pollutant high co2 concentration actually help ecosystem support more plant and animal life\n",
      "============================================\n",
      "Retrieved evidence IDs: ['evidence-588973', 'evidence-55991', 'evidence-442946', 'evidence-202201', 'evidence-179375']\n",
      "Retrieved evidence texts: ['the whitebark pine ecosystem in these high elevation play many essential role provide support to plant and animal life', 'on july 21 2011 while a guest on the show he state to suggest that co2 s a pollutant when it s an extremely important gas in the atmosphere for all plant life and therefore for the oxygen that s produce be just nonsense', 'at very high concentration 100 time atmospheric concentration or great carbon dioxide can be toxic to animal life so raise the concentration to 10 000 ppm 1 or high for several hour will eliminate pest such as whitefly and spider mite in a greenhouse', 'in terrestrial ecosystem the early timing of spring event as well as poleward and upward shift in plant and animal range have be link with high confidence to recent warming', 'this same high oxidise potential however cause ozone to damage mucous and respiratory tissue in animal and also tissue in plant above concentration of about']\n",
      "============================================\n",
      "Correct evidence IDs: ['evidence-442946', 'evidence-1194317', 'evidence-12171']\n",
      "Correct evidence texts: ['at very high concentration 100 time atmospheric concentration or great carbon dioxide can be toxic to animal life so raise the concentration to 10 000 ppm 1 or high for several hour will eliminate pest such as whitefly and spider mite in a greenhouse', 'plant can grow as much as 50 percent fast in concentration of 1 000 ppm co 2 when compare with ambient condition though this assume no change in climate and no limitation on other nutrient', 'high carbon dioxide concentration will favourably affect plant growth and demand for water']\n"
     ]
    }
   ],
   "source": [
    "claim_id = list(train_claims)[0]\n",
    "print(f\"Example claim ID: {claim_id}\")\n",
    "claim_text = train_claims[claim_id][\"claim_text\"]\n",
    "print(f\"Example claim text: {claim_text}\")\n",
    "print(\"============================================\")\n",
    "retrieved_evidence_ids = simple_retrieve_fast(claim_text, inverted_index, evidence_word_sets, top_k=5, max_candidates=100000, stopwords=english_stopwords)\n",
    "print(f\"Retrieved evidence IDs: {retrieved_evidence_ids}\")\n",
    "print(f\"Retrieved evidence texts: {[evidences[evidence_id] for evidence_id in retrieved_evidence_ids]}\")\n",
    "print(\"============================================\")\n",
    "print(f\"Correct evidence IDs: {train_claims[claim_id]['evidences']}\")\n",
    "print(f\"Correct evidence texts: {[evidences[evidence_id] for evidence_id in train_claims[claim_id]['evidences']]}\")"
   ]
  },
  {
   "cell_type": "code",
   "execution_count": null,
   "id": "f2dd9632",
   "metadata": {},
   "outputs": [],
   "source": [
    "def get_retrieved_predictions_dict(\n",
    "    claims,\n",
    "    inverted_index,\n",
    "    evidence_word_sets,\n",
    "    top_k=5,\n",
    "    max_candidates=1000\n",
    "):\n",
    "    \"\"\"\n",
    "    Generate a predictions dict from claims using simple_retrieve_fast()\n",
    "\n",
    "    Returns:\n",
    "        dict[str, list[str]]: claim_id -> list of predicted evidence IDs\n",
    "    \"\"\"\n",
    "    predictions = {}\n",
    "\n",
    "    for claim_id, claim_data in claims.items():\n",
    "        claim_text = claim_data[\"claim_text\"]\n",
    "\n",
    "        predicted_evidences = simple_retrieve_fast(\n",
    "            claim_text,\n",
    "            inverted_index,\n",
    "            evidence_word_sets,\n",
    "            top_k=top_k,\n",
    "            max_candidates=max_candidates,\n",
    "            stopwords=english_stopwords\n",
    "        )\n",
    "\n",
    "        predictions[claim_id] = predicted_evidences\n",
    "\n",
    "    return predictions\n",
    "\n",
    "def evaluate_retrieval(predictions, gold_claims, top_k=5):\n",
    "    \"\"\"\n",
    "    Evaluate retrieval performance using precision/recall/f1@k.\n",
    "\n",
    "    Args:\n",
    "        predictions: dict[str, list[str]] — claim_id -> predicted evidence ids\n",
    "        gold_claims: dict[str, dict] — claim_id -> {\"evidences\": [...]}\n",
    "        top_k: how many predicted evidences to evaluate\n",
    "\n",
    "    Returns:\n",
    "        precision, recall, f1\n",
    "    \"\"\"\n",
    "    total_precision = 0\n",
    "    total_recall = 0\n",
    "    total_f1 = 0\n",
    "    count = 0\n",
    "\n",
    "    for claim_id, gold_data in gold_claims.items():\n",
    "        gold_evidence_set = set(gold_data.get(\"evidences\", []))\n",
    "        predicted_evidence_set = set(predictions.get(claim_id, [])[:top_k])\n",
    "\n",
    "        if not gold_evidence_set:\n",
    "            continue  # skip if no gold evidence\n",
    "\n",
    "        true_positives = predicted_evidence_set & gold_evidence_set\n",
    "        num_true = len(true_positives)\n",
    "        precision = num_true / len(predicted_evidence_set) if predicted_evidence_set else 0\n",
    "        recall = num_true / len(gold_evidence_set) if gold_evidence_set else 0\n",
    "        f1 = (2 * precision * recall) / (precision + recall) if precision + recall > 0 else 0\n",
    "\n",
    "        total_precision += precision\n",
    "        total_recall += recall\n",
    "        total_f1 += f1\n",
    "        count += 1\n",
    "\n",
    "    if count == 0:\n",
    "        return 0.0, 0.0, 0.0\n",
    "\n",
    "    avg_precision = total_precision / count\n",
    "    avg_recall = total_recall / count\n",
    "    avg_f1 = total_f1 / count\n",
    "\n",
    "    print(f\"✅ Evaluated on {count} claims\")\n",
    "    print(f\"Precision@{top_k}: {avg_precision:.4f}\")\n",
    "    print(f\"Recall@{top_k}:    {avg_recall:.4f}\")\n",
    "    print(f\"F1@{top_k}:        {avg_f1:.4f}\")\n",
    "\n",
    "    return avg_precision, avg_recall, avg_f1"
   ]
  },
  {
   "cell_type": "code",
   "execution_count": 15,
   "id": "28f7427c",
   "metadata": {},
   "outputs": [
    {
     "name": "stdout",
     "output_type": "stream",
     "text": [
      "✅ Evaluated on 1228 claims\n",
      "Precision@5: 0.0803\n",
      "Recall@5:    0.1352\n",
      "F1@5:        0.0947\n"
     ]
    },
    {
     "data": {
      "text/plain": [
       "(0.08029315960912099, 0.13521986970684047, 0.09466806266480565)"
      ]
     },
     "execution_count": 15,
     "metadata": {},
     "output_type": "execute_result"
    }
   ],
   "source": [
    "retrieved_predictions = get_retrieved_predictions_dict(\n",
    "    claims=train_claims,\n",
    "    inverted_index=inverted_index,\n",
    "    evidence_word_sets=evidence_word_sets,\n",
    "    top_k=5,\n",
    "    max_candidates=100000\n",
    ")\n",
    "\n",
    "evaluate_retrieval(retrieved_predictions, train_claims, top_k=5)"
   ]
  },
  {
   "cell_type": "code",
   "execution_count": null,
   "id": "4d239875",
   "metadata": {},
   "outputs": [
    {
     "name": "stdout",
     "output_type": "stream",
     "text": [
      "✅ Evaluated on 154 claims\n",
      "Precision@5: 0.0883\n",
      "Recall@5:    0.1587\n",
      "F1@5:        0.1053\n"
     ]
    },
    {
     "data": {
      "text/plain": [
       "(0.08831168831168826, 0.15865800865800858, 0.10529272314986601)"
      ]
     },
     "execution_count": 20,
     "metadata": {},
     "output_type": "execute_result"
    }
   ],
   "source": [
    "retrieved_predictions = get_retrieved_predictions_dict(\n",
    "    claims=dev_claims,\n",
    "    inverted_index=inverted_index,\n",
    "    evidence_word_sets=evidence_word_sets,\n",
    "    top_k=5,\n",
    "    max_candidates=100000\n",
    ")\n",
    "evaluate_retrieval(retrieved_predictions, dev_claims, top_k=5)"
   ]
  },
  {
   "cell_type": "code",
   "execution_count": 21,
   "id": "37f4b7bc",
   "metadata": {},
   "outputs": [],
   "source": [
    "import matplotlib.pyplot as plt\n",
    "\n",
    "def sweep_top_k_evaluation(claims, inverted_index, evidence_word_sets, max_candidates=1000, k_range=range(3, 8)):\n",
    "    \"\"\"\n",
    "    Sweep different values of top_k to evaluate retrieval performance.\n",
    "\n",
    "    Args:\n",
    "        claims: dict of claim_id -> {\"claim_text\", \"evidences\"}\n",
    "        inverted_index: word -> set of evidence IDs\n",
    "        evidence_word_sets: evidence ID -> set of words\n",
    "        max_candidates: max evidence candidates to consider for each claim\n",
    "        k_range: iterable of top_k values to test (e.g. range(3, 8))\n",
    "\n",
    "    Returns:\n",
    "        dict with lists: {\"top_k\": [...], \"precision\": [...], \"recall\": [...], \"f1\": [...]}\n",
    "    \"\"\"\n",
    "    results = {\n",
    "        \"top_k\": [],\n",
    "        \"precision\": [],\n",
    "        \"recall\": [],\n",
    "        \"f1\": []\n",
    "    }\n",
    "\n",
    "    for k in k_range:\n",
    "        print(f\"🔍 Evaluating top_k={k} ...\")\n",
    "        predictions = get_retrieved_predictions_dict(\n",
    "            claims=claims,\n",
    "            inverted_index=inverted_index,\n",
    "            evidence_word_sets=evidence_word_sets,\n",
    "            top_k=k,\n",
    "            max_candidates=max_candidates,\n",
    "        )\n",
    "        precision, recall, f1 = evaluate_retrieval(predictions, claims, top_k=k)\n",
    "        results[\"top_k\"].append(k)\n",
    "        results[\"precision\"].append(precision)\n",
    "        results[\"recall\"].append(recall)\n",
    "        results[\"f1\"].append(f1)\n",
    "\n",
    "    return results\n",
    "\n",
    "def plot_sweep_results(results):\n",
    "    plt.figure(figsize=(10, 6))\n",
    "    plt.plot(results[\"top_k\"], results[\"precision\"], marker='o', label=\"Precision@k\")\n",
    "    plt.plot(results[\"top_k\"], results[\"recall\"], marker='o', label=\"Recall@k\")\n",
    "    plt.plot(results[\"top_k\"], results[\"f1\"], marker='o', label=\"F1@k\")\n",
    "    plt.xlabel(\"Top-K\")\n",
    "    plt.ylabel(\"Score\")\n",
    "    plt.title(\"Retrieval Performance vs. Top-K\")\n",
    "    plt.grid(True)\n",
    "    plt.legend()\n",
    "    plt.tight_layout()\n",
    "    plt.show()\n"
   ]
  },
  {
   "cell_type": "code",
   "execution_count": 22,
   "id": "dda437f4",
   "metadata": {},
   "outputs": [
    {
     "name": "stdout",
     "output_type": "stream",
     "text": [
      "🔍 Evaluating top_k=3 ...\n",
      "✅ Evaluated on 154 claims\n",
      "Precision@3: 0.1190\n",
      "Recall@3:    0.1341\n",
      "F1@3:        0.1150\n",
      "🔍 Evaluating top_k=4 ...\n",
      "✅ Evaluated on 154 claims\n",
      "Precision@4: 0.0990\n",
      "Recall@4:    0.1438\n",
      "F1@4:        0.1076\n",
      "🔍 Evaluating top_k=5 ...\n",
      "✅ Evaluated on 154 claims\n",
      "Precision@5: 0.0883\n",
      "Recall@5:    0.1587\n",
      "F1@5:        0.1053\n",
      "🔍 Evaluating top_k=6 ...\n",
      "✅ Evaluated on 154 claims\n",
      "Precision@6: 0.0801\n",
      "Recall@6:    0.1715\n",
      "F1@6:        0.1021\n",
      "🔍 Evaluating top_k=7 ...\n",
      "✅ Evaluated on 154 claims\n",
      "Precision@7: 0.0714\n",
      "Recall@7:    0.1763\n",
      "F1@7:        0.0955\n",
      "{'top_k': [3, 4, 5, 6, 7], 'precision': [0.11904761904761907, 0.09902597402597403, 0.08831168831168826, 0.08008658008658004, 0.07142857142857141], 'recall': [0.13409090909090904, 0.14383116883116878, 0.15865800865800858, 0.1715367965367965, 0.17629870129870123], 'f1': [0.11498144712430428, 0.10757060399917544, 0.10529272314986601, 0.10210874983602254, 0.09554965236783414]}\n"
     ]
    },
    {
     "data": {
      "image/png": "[encoded data removed]",
      "text/plain": [
       "<Figure size 1000x600 with 1 Axes>"
      ]
     },
     "metadata": {},
     "output_type": "display_data"
    }
   ],
   "source": [
    "results = sweep_top_k_evaluation(\n",
    "    claims=dev_claims,\n",
    "    inverted_index=inverted_index,\n",
    "    evidence_word_sets=evidence_word_sets,\n",
    "    max_candidates=100000,\n",
    "    k_range=range(3, 8)\n",
    ")\n",
    "\n",
    "print(results)\n",
    "\n",
    "plot_sweep_results(results)\n"
   ]
  }
 ],
 "metadata": {
  "kernelspec": {
   "display_name": "nlp_env",
   "language": "python",
   "name": "python3"
  },
  "language_info": {
   "codemirror_mode": {
    "name": "ipython",
    "version": 3
   },
   "file_extension": ".py",
   "mimetype": "text/x-python",
   "name": "python",
   "nbconvert_exporter": "python",
   "pygments_lexer": "ipython3",
   "version": "3.11.11"
  }
 },
 "nbformat": 4,
 "nbformat_minor": 5
}
